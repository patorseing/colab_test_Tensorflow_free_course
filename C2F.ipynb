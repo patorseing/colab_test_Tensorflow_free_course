{
  "nbformat": 4,
  "nbformat_minor": 0,
  "metadata": {
    "colab": {
      "name": "C2F.ipynb",
      "version": "0.3.2",
      "provenance": [],
      "collapsed_sections": [],
      "include_colab_link": true
    },
    "kernelspec": {
      "name": "python3",
      "display_name": "Python 3"
    }
  },
  "cells": [
    {
      "cell_type": "markdown",
      "metadata": {
        "id": "view-in-github",
        "colab_type": "text"
      },
      "source": [
        "<a href=\"https://colab.research.google.com/github/patorseing/colab_test_Tensorflow_free_course/blob/master/C2F.ipynb\" target=\"_parent\"><img src=\"https://colab.research.google.com/assets/colab-badge.svg\" alt=\"Open In Colab\"/></a>"
      ]
    },
    {
      "metadata": {
        "id": "xb57SwqmRwZ4",
        "colab_type": "text"
      },
      "cell_type": "markdown",
      "source": [
        "## **import __future__, tensorflow and numpy library to system**\n",
        "\n",
        "First, import TensorFlow. Here, we're calling it tf for ease of use. We also tell it to only display errors.\n",
        "Next, import NumPy as np. Numpy helps us to represent our data as highly performant lists."
      ]
    },
    {
      "metadata": {
        "id": "CBBp1egXR9nn",
        "colab_type": "code",
        "colab": {}
      },
      "cell_type": "code",
      "source": [
        "from __future__ import absolute_import, division, print_function\n",
        "import tensorflow as tf\n",
        "tf.logging.set_verbosity(tf.logging.ERROR)\n",
        "\n",
        "import numpy as np"
      ],
      "execution_count": 0,
      "outputs": []
    },
    {
      "metadata": {
        "id": "suivIg0iSYfv",
        "colab_type": "text"
      },
      "cell_type": "markdown",
      "source": [
        "## **Set up training data**"
      ]
    },
    {
      "metadata": {
        "id": "DbSX4Kg4Sn5z",
        "colab_type": "code",
        "colab": {}
      },
      "cell_type": "code",
      "source": [
        "celsius_q    = np.array([-40, -10,  0,  8, 15, 22,  38],  dtype=float)\n",
        "fahrenheit_a = np.array([-40,  14, 32, 46, 59, 72, 100],  dtype=float)"
      ],
      "execution_count": 0,
      "outputs": []
    },
    {
      "metadata": {
        "id": "c5AR8vAyTFwp",
        "colab_type": "text"
      },
      "cell_type": "markdown",
      "source": [
        "**Some Machine Learning terminology**\n",
        "\n",
        "**Feature** — The input(s) to our model. In this case, a single value — the degrees in Celsius.\n",
        "\n",
        "**Labels** — The output our model predicts. In this case, a single value — the degrees in Fahrenhet.\n",
        "\n",
        "**Example** — A pair of inputs/outputs used during training. In our case a pair of values from celsius_q and fahrenhet_a at a specific index, such as (22,72)."
      ]
    },
    {
      "metadata": {
        "id": "D9t_XGvNStCu",
        "colab_type": "text"
      },
      "cell_type": "markdown",
      "source": [
        "## **Create the model**"
      ]
    },
    {
      "metadata": {
        "id": "i-18O_7JSwoM",
        "colab_type": "code",
        "colab": {}
      },
      "cell_type": "code",
      "source": [
        "model = tf.keras.Sequential([\n",
        "  tf.keras.layers.Dense(units=1, input_shape=[1])\n",
        "])"
      ],
      "execution_count": 0,
      "outputs": []
    },
    {
      "metadata": {
        "id": "lrn09tffTlzu",
        "colab_type": "text"
      },
      "cell_type": "markdown",
      "source": [
        "***The Sequential model***\n",
        "\n",
        "**input_shape=[1]** — This specifies that the input to this layer is a single value.\n",
        "\n",
        "**units=1** — This specifies the number of neurons in the layer."
      ]
    },
    {
      "metadata": {
        "id": "ulerYo9cS4pK",
        "colab_type": "text"
      },
      "cell_type": "markdown",
      "source": [
        "## **Compile the model, with loss and optimizer functions**\n",
        "\n",
        "**Loss function** — A way of measuring how far off predictions are from the desired outcome. (The measured difference is called the \"loss\".\n",
        "\n",
        "**Optimizer function** — A way of adjusting internal values in order to reduce the loss."
      ]
    },
    {
      "metadata": {
        "id": "puYA9V3xS667",
        "colab_type": "code",
        "colab": {}
      },
      "cell_type": "code",
      "source": [
        "model.compile(loss='mean_squared_error', optimizer=tf.keras.optimizers.Adam(0.1))"
      ],
      "execution_count": 0,
      "outputs": []
    },
    {
      "metadata": {
        "id": "CZSWMDaiUhRZ",
        "colab_type": "text"
      },
      "cell_type": "markdown",
      "source": [
        "## **Train the model**\n"
      ]
    },
    {
      "metadata": {
        "id": "bWjknXZ-Ul0S",
        "colab_type": "code",
        "colab": {
          "base_uri": "https://localhost:8080/",
          "height": 34
        },
        "outputId": "3e92d0f0-bff4-4fc3-957d-865557fa8e4a"
      },
      "cell_type": "code",
      "source": [
        "history = model.fit(celsius_q, fahrenheit_a, epochs=500, verbose=False)\n",
        "print(\"Finished training the model\")"
      ],
      "execution_count": 7,
      "outputs": [
        {
          "output_type": "stream",
          "text": [
            "Finished training the model\n"
          ],
          "name": "stdout"
        }
      ]
    },
    {
      "metadata": {
        "id": "9Z-gZvCjUs7X",
        "colab_type": "text"
      },
      "cell_type": "markdown",
      "source": [
        "## **Result (predict)**\n",
        "\n"
      ]
    },
    {
      "metadata": {
        "id": "bCGMywMsUwR9",
        "colab_type": "code",
        "colab": {
          "base_uri": "https://localhost:8080/",
          "height": 34
        },
        "outputId": "c15b6885-6763-427d-d1b1-87745cb8ab30"
      },
      "cell_type": "code",
      "source": [
        "model.predict([100.0])"
      ],
      "execution_count": 8,
      "outputs": [
        {
          "output_type": "execute_result",
          "data": {
            "text/plain": [
              "array([[211.33818]], dtype=float32)"
            ]
          },
          "metadata": {
            "tags": []
          },
          "execution_count": 8
        }
      ]
    },
    {
      "metadata": {
        "id": "CowDjKeXY0eB",
        "colab_type": "text"
      },
      "cell_type": "markdown",
      "source": [
        "## **Result (training statistics)**"
      ]
    },
    {
      "metadata": {
        "id": "1BLwAq9LY9NV",
        "colab_type": "code",
        "colab": {
          "base_uri": "https://localhost:8080/",
          "height": 378
        },
        "outputId": "c20eb68c-19f0-45e5-c0d0-e1ca0ee36688"
      },
      "cell_type": "code",
      "source": [
        "import matplotlib.pyplot as plt\n",
        "plt.xlabel('Epoch Number')\n",
        "plt.ylabel(\"Loss Magnitude\")\n",
        "plt.plot(history.history['loss'])"
      ],
      "execution_count": 9,
      "outputs": [
        {
          "output_type": "execute_result",
          "data": {
            "text/plain": [
              "[<matplotlib.lines.Line2D at 0x7ff60be640f0>]"
            ]
          },
          "metadata": {
            "tags": []
          },
          "execution_count": 9
        },
        {
          "output_type": "display_data",
          "data": {
            "image/png": "[encoded data removed]",
            "text/plain": [
              "<Figure size 576x396 with 1 Axes>"
            ]
          },
          "metadata": {
            "tags": []
          }
        }
      ]
    }
  ]
}